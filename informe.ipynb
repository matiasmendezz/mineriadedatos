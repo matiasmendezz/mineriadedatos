{
 "cells": [
  {
   "cell_type": "markdown",
   "id": "dfdc2da0",
   "metadata": {},
   "source": [
    "# Hito 1: “Análisis de canciones de Spotify”"
   ]
  },
  {
   "cell_type": "markdown",
   "id": "37bd6cad",
   "metadata": {},
   "source": [
    "Grupo 17, Sección 2 "
   ]
  },
  {
   "cell_type": "markdown",
   "id": "f797a252",
   "metadata": {},
   "source": [
    "\n",
    "Integrantes : Juan Balboa E., Sebastian Cadena A., Benjamin Fuentes R., Matias Mendez Z., Camila Rojas G.\n",
    "\n"
   ]
  },
  {
   "cell_type": "markdown",
   "id": "93e4c1ac",
   "metadata": {},
   "source": [
    "## Introducción\n",
    "\n",
    "Spotify es una de las plataformas de música más importantes del mundo, con más de 100 millones de canciones y cientos de millones de usuarios. Esta enorme cantidad de datos la convierte en una fuente valiosa para estudiar la música de forma científica. Lo interesante de Spotify es que cada canción tiene características medibles y objetivas como danceability (qué tan bailable es), energy (su nivel de energía), valence (si suena alegre o triste), acousticness (si es acústica o electrónica) e instrumentalness (cuánta música instrumental tiene). Estas características permiten analizar las canciones como datos numéricos y aplicar técnicas de ciencia de datos.\n",
    "\n",
    "Este trabajo utiliza técnicas de minería de datos para explorar patrones ocultos en estas características acústicas. Específicamente, se busca descubrir si existen grupos naturales de canciones basados en sus propiedades sonoras, predecir la popularidad de las canciones, y determinar si es posible clasificar géneros musicales usando únicamente estas métricas objetivas. Los resultados ayudarán a entender mejor cómo se organiza la música y podrán presentarse como aplicaciones prácticas en sistemas de recomendación para usuarios."
   ]
  },
  {
   "cell_type": "markdown",
   "id": "7402c0e0",
   "metadata": {},
   "source": [
    "Importar librerías necesarias."
   ]
  },
  {
   "cell_type": "code",
   "execution_count": null,
   "id": "95c2f6ee",
   "metadata": {},
   "outputs": [
    {
     "ename": "",
     "evalue": "",
     "output_type": "error",
     "traceback": [
      "\u001b[1;31mRunning cells with 'Python 3.13.7' requires the ipykernel package.\n",
      "\u001b[1;31m<a href='command:jupyter.createPythonEnvAndSelectController'>Create a Python Environment</a> with the required packages.\n",
      "\u001b[1;31mOr install 'ipykernel' using the command: 'c:/Python313/python.exe -m pip install ipykernel -U --user --force-reinstall'"
     ]
    }
   ],
   "source": [
    "import pandas as pd\n",
    "from sklearn.model_selection import train_test_split\n",
    "from sklearn.ensemble import RandomForestClassifier\n",
    "from sklearn.linear_model import LinearRegression\n",
    "from sklearn.metrics import accuracy_score, classification_report, confusion_matrix\n",
    "from sklearn.metrics import mean_absolute_error, r2_score\n",
    "import seaborn as sns\n",
    "import matplotlib.pyplot as plt\n",
    "# Configuración de visualización para gráficos más atractivos\n",
    "sns.set_style('whitegrid')\n",
    "plt.rcParams['figure.figsize'] = (12, 6)\n",
    "plt.rcParams['font.size'] = 10\n",
    "# Suprimir advertencias para salida más limpia\n",
    "import warnings\n",
    "warnings.filterwarnings('ignore')\n",
    "\n",
    "print(\"Librerías importadas exitosamente\")"
   ]
  },
  {
   "cell_type": "markdown",
   "id": "fda75058",
   "metadata": {},
   "source": [
    "Cargar y explorar el dataset."
   ]
  },
  {
   "cell_type": "code",
   "execution_count": null,
   "id": "fc082693",
   "metadata": {},
   "outputs": [],
   "source": [
    "# Cargar el dataset desde el archivo CSV\n",
    "df = pd.read_csv('dataset.csv')\n",
    "\n",
    "print(f\"Dimensiones: {df.shape[0]:,} filas × {df.shape[1]} columnas\")\n",
    "print(\"\\nPrimeras 5 filas del dataset:\")\n",
    "df.head()"
   ]
  },
  {
   "cell_type": "markdown",
   "id": "11147b2c",
   "metadata": {},
   "source": [
    "Información general del dataset: tipos de datos, valores no nulos."
   ]
  },
  {
   "cell_type": "code",
   "execution_count": null,
   "id": "426c75ba",
   "metadata": {},
   "outputs": [],
   "source": [
    "print(\"Informacion general del dataset\")\n",
    "print(\"=\"*80)\n",
    "df.info()\n",
    "print(\"\\n\" + \"=\"*80)"
   ]
  },
  {
   "cell_type": "markdown",
   "id": "bc7d6524",
   "metadata": {},
   "source": [
    "Análisis de valores faltantes\n"
   ]
  },
  {
   "cell_type": "code",
   "execution_count": null,
   "id": "2698d116",
   "metadata": {},
   "outputs": [],
   "source": [
    "# Análisis de valores faltantes\n",
    "print(\"ANÁLISIS DE VALORES FALTANTES\")\n",
    "print(\"=\"*80)\n",
    "\n",
    "missing_values = df.isnull().sum()\n",
    "missing_percent = (missing_values / len(df)) * 100\n",
    "\n",
    "missing_df = pd.DataFrame({\n",
    "    'Columna': missing_values.index,\n",
    "    'Valores Faltantes': missing_values.values,\n",
    "    'Porcentaje (%)': missing_percent.values\n",
    "})\n",
    "\n",
    "# Mostrar solo columnas con valores faltantes\n",
    "missing_df = missing_df[missing_df['Valores Faltantes'] > 0]\n",
    "\n",
    "if len(missing_df) > 0:\n",
    "    print(missing_df.to_string(index=False))\n",
    "else:\n",
    "    print(\"✓ No hay valores faltantes en el dataset\")\n",
    "\n",
    "print(\"\\n\" + \"=\"*80)"
   ]
  },
  {
   "cell_type": "markdown",
   "id": "283dcc5f",
   "metadata": {},
   "source": [
    "# problema a resolver"
   ]
  },
  {
   "cell_type": "markdown",
   "id": "ac323477",
   "metadata": {},
   "source": [
    "Regresión lineal para predecir popularidad a partir de métricas sobre la canción, sin considerar el nombre del artista."
   ]
  },
  {
   "cell_type": "code",
   "execution_count": 23,
   "id": "c1799cff",
   "metadata": {},
   "outputs": [
    {
     "name": "stdout",
     "output_type": "stream",
     "text": [
      "Error Absoluto Medio (MAE): 14.07172419404308\n",
      "Coeficiente de Determinación (R²): 0.26154073338005457\n"
     ]
    }
   ],
   "source": [
    "# Carga de datos\n",
    "file_name = 'dataset.csv'\n",
    "df = pd.read_csv(file_name)\n",
    "df['explicit'] = df['explicit'].astype(int)\n",
    "\n",
    "train_df, test_df = train_test_split(df, test_size=0.2, random_state=666)\n",
    "\n",
    "features_to_use = [\n",
    "    'duration_ms', 'explicit', 'danceability', 'energy', 'key', 'loudness', 'mode',\n",
    "    'speechiness', 'acousticness', 'instrumentalness', 'liveness', 'valence',\n",
    "    'tempo', 'time_signature', 'track_genre'\n",
    "]\n",
    "# sets entrenamiento y prueba\n",
    "y_train = train_df['popularity']\n",
    "y_test = test_df['popularity']\n",
    "\n",
    "X_train = train_df[features_to_use]\n",
    "X_test = test_df[features_to_use]\n",
    "# convertimos columnas de género en columnas numéricas\n",
    "X_train= pd.get_dummies(X_train, columns=['track_genre'], drop_first=True)\n",
    "X_test = pd.get_dummies(X_test, columns=['track_genre'], drop_first=True)\n",
    "\n",
    "\n",
    "# forzamos a que ambos conjuntos tengan las mismas columnas de género\n",
    "\n",
    "train_cols = X_train.columns\n",
    "test_cols = X_test.columns\n",
    "missing_in_test = set(train_cols) - set(test_cols)\n",
    "for c in missing_in_test:\n",
    "    X_test[c] = 0\n",
    "missing_in_train = set(test_cols) - set(train_cols)\n",
    "for c in missing_in_train:\n",
    "    X_train[c] = 0\n",
    "X_test = X_test[train_cols] # asegura el mismo orden\n",
    "\n",
    "\n",
    "\n",
    "linear_model = LinearRegression(n_jobs=-1)\n",
    "linear_model.fit(X_train, y_train)\n",
    "predictions = linear_model.predict(X_test)\n",
    "mae = mean_absolute_error(y_test, predictions)\n",
    "r2 = r2_score(y_test, predictions)\n",
    "\n",
    "\n",
    "print(f\"Error Absoluto Medio (MAE): {mae}\")\n",
    "print(f\"Coeficiente de Determinación (R²): {r2}\")"
   ]
  },
  {
   "cell_type": "markdown",
   "id": "de3f15a3",
   "metadata": {},
   "source": [
    "Probamos con random forest regressor"
   ]
  },
  {
   "cell_type": "code",
   "execution_count": 24,
   "id": "cbb9be7b",
   "metadata": {},
   "outputs": [
    {
     "name": "stdout",
     "output_type": "stream",
     "text": [
      "RandomForestRegressor - MAE: 10.403142644859185\n",
      "RandomForestRegressor - R²: 0.5224642151505604\n"
     ]
    }
   ],
   "source": [
    "# RandomForestRegressor\n",
    "rf_regressor = RandomForestRegressor(n_estimators=100, random_state=666, n_jobs=-1)\n",
    "rf_regressor.fit(X_train, y_train)\n",
    "\n",
    "rf_predictions = rf_regressor.predict(X_test)\n",
    "\n",
    "rf_mae = mean_absolute_error(y_test, rf_predictions)\n",
    "rf_r2 = r2_score(y_test, rf_predictions)\n",
    "\n",
    "print(f\"RandomForestRegressor - MAE: {rf_mae}\")\n",
    "print(f\"RandomForestRegressor - R²: {rf_r2}\")\n",
    "\n",
    "#se demoro 1 min 20 segundos en correr"
   ]
  },
  {
   "cell_type": "markdown",
   "id": "e09873d2",
   "metadata": {},
   "source": [
    "Ahora estudiamos la populariad usando random forest classifier, para lo cual convertimos la popularidad en categorías"
   ]
  },
  {
   "cell_type": "code",
   "execution_count": 25,
   "id": "f7c30cff",
   "metadata": {},
   "outputs": [
    {
     "name": "stdout",
     "output_type": "stream",
     "text": [
      "Precisión (Accuracy): 0.7682456140350877\n",
      "\n",
      "Reporte de Clasificación:\n",
      "              precision    recall  f1-score   support\n",
      "\n",
      " Muy Popular       0.73      0.41      0.52      2714\n",
      "Poco Popular       0.79      0.92      0.85     13465\n",
      "     Popular       0.73      0.61      0.66      6621\n",
      "\n",
      "    accuracy                           0.77     22800\n",
      "   macro avg       0.75      0.64      0.68     22800\n",
      "weighted avg       0.76      0.77      0.76     22800\n",
      "\n",
      "\n",
      "Matriz de Confusión:\n"
     ]
    },
    {
     "data": {
      "image/png": "[encoded data removed]",
      "text/plain": [
       "<Figure size 800x600 with 2 Axes>"
      ]
     },
     "metadata": {},
     "output_type": "display_data"
    }
   ],
   "source": [
    "\n",
    "\n",
    "file_name = 'dataset.csv'\n",
    "df = pd.read_csv(file_name)\n",
    "# pasamos explicit a numerico\n",
    "df['explicit'] = df['explicit'].astype(int)\n",
    "\n",
    "#le damos una etiqueta a cada cancion segun su popularidad\n",
    "bins = [-1, 40, 60, 101]\n",
    "labels = ['Poco Popular', 'Popular', 'Muy Popular']\n",
    "df['popularity_category'] = pd.cut(df['popularity'], bins=bins, labels=labels)\n",
    "\n",
    "\n",
    "# usamos stratify para mantener la proporción en train y test\n",
    "train_df, test_df = train_test_split(df, test_size=0.2, random_state=666, stratify=df['popularity_category'])\n",
    "\n",
    "features_to_use = [\n",
    "    'duration_ms', 'explicit', 'danceability', 'energy', 'key', 'loudness', 'mode',\n",
    "    'speechiness', 'acousticness', 'instrumentalness', 'liveness', 'valence',\n",
    "    'tempo', 'time_signature', 'track_genre'\n",
    "]\n",
    "\n",
    "# sets entrenamiento y prueba\n",
    "y_train = train_df['popularity_category']\n",
    "y_test = test_df['popularity_category']\n",
    "\n",
    "X_train = train_df[features_to_use]\n",
    "X_test = test_df[features_to_use]\n",
    "\n",
    "# convertimos columnas de género en columnas numéricas\n",
    "X_train = pd.get_dummies(X_train, columns=['track_genre'], drop_first=True)\n",
    "X_test = pd.get_dummies(X_test, columns=['track_genre'], drop_first=True)\n",
    "\n",
    "# forzamos a que ambos conjuntos tengan las mismas columnas de género\n",
    "train_cols = X_train.columns\n",
    "test_cols = X_test.columns\n",
    "missing_in_test = set(train_cols) - set(test_cols)\n",
    "for c in missing_in_test:\n",
    "    X_test[c] = 0\n",
    "X_test = X_test[train_cols] # asegura el mismo orden\n",
    "\n",
    "\n",
    "clf_model = RandomForestClassifier(n_estimators=100, random_state=666, n_jobs=-1)\n",
    "\n",
    "clf_model.fit(X_train, y_train)\n",
    "\n",
    "predictions = clf_model.predict(X_test)\n",
    "\n",
    "accuracy = accuracy_score(y_test, predictions)\n",
    "report = classification_report(y_test, predictions)\n",
    "conf_matrix = confusion_matrix(y_test, predictions)\n",
    "\n",
    "print(f\"Precisión (Accuracy): {accuracy}\")\n",
    "print(\"\\nReporte de Clasificación:\")\n",
    "print(report)\n",
    "\n",
    "\n",
    "print(\"\\nMatriz de Confusión:\")\n",
    "plt.figure(figsize=(8, 6))\n",
    "sns.heatmap(conf_matrix, annot=True, fmt = 'd',cmap='Reds', xticklabels=labels, yticklabels=labels)\n",
    "plt.xlabel('Predicción del Modelo')\n",
    "plt.ylabel('Valor Real')\n",
    "plt.title('Matriz de Confusión')\n",
    "plt.show()\n",
    "\n",
    "#con n_jobs=-1 se demora 12 seg. Con n_jobs=1 se demora 45 seg."
   ]
  }
 ],
 "metadata": {
  "kernelspec": {
   "display_name": "Python 3",
   "language": "python",
   "name": "python3"
  },
  "language_info": {
   "codemirror_mode": {
    "name": "ipython",
    "version": 3
   },
   "file_extension": ".py",
   "mimetype": "text/x-python",
   "name": "python",
   "nbconvert_exporter": "python",
   "pygments_lexer": "ipython3",
   "version": "3.13.7"
  }
 },
 "nbformat": 4,
 "nbformat_minor": 5
}
